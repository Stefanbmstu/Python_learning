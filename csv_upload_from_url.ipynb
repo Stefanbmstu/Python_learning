{
 "cells": [
  {
   "cell_type": "markdown",
   "metadata": {},
   "source": [
    "В нашем проекте код по загрузке csv по ссылке выглядит примерно так."
   ]
  },
  {
   "cell_type": "code",
   "execution_count": null,
   "metadata": {},
   "outputs": [],
   "source": [
    "import requests\n",
    "import logging\n",
    "from datetime import datetime as dt\n",
    "\n",
    "# Настройка логирования\n",
    "logging.basicConfig(level=logging.DEBUG)\n",
    "logger = logging.getLogger()\n",
    "\n",
    "class FileDownloader:\n",
    "    @classmethod\n",
    "    def upload_file_from_url(cls, url: str) -> bytes:\n",
    "        \"\"\"Загрузка файла из удаленного источника по ссылке\"\"\"\n",
    "        start_load = dt.now()\n",
    "\n",
    "        try:\n",
    "            response = requests.get(url)\n",
    "            response.raise_for_status()  # Перехват ошибок HTTP, отличных от 200\n",
    "        except requests.exceptions.HTTPError as err:\n",
    "            logger.error(f\"Ошибка HTTP: {err}\")\n",
    "            return False\n",
    "        except Exception as err:\n",
    "            logger.error(f\"Ошибка загрузки: {err}\")\n",
    "            return False\n",
    "\n",
    "        logger.debug(f\"Загружали файл по ссылке - {dt.now() - start_load}\")\n",
    "        return response.content"
   ]
  },
  {
   "cell_type": "markdown",
   "metadata": {},
   "source": [
    "Код для тестирования метода."
   ]
  },
  {
   "cell_type": "code",
   "execution_count": null,
   "metadata": {},
   "outputs": [],
   "source": [
    "import unittest\n",
    "\n",
    "class TestFileDownloader(unittest.TestCase):\n",
    "    def test_success_download(self):\n",
    "        \"\"\"Тест успешной загрузки файла.\"\"\"\n",
    "        url = \"http://example.com/somefile.csv\"  # Укажите действительный URL для теста\n",
    "        result = FileDownloader.upload_file_from_url(url)\n",
    "        self.assertTrue(isinstance(result, bytes))\n",
    "\n",
    "    def test_404_download(self):\n",
    "        \"\"\"Тест загрузки файла с ошибкой 404.\"\"\"\n",
    "        url = \"http://example.com/nonexistentfile.csv\"\n",
    "        result = FileDownloader.upload_file_from_url(url)\n",
    "        self.assertFalse(result)\n",
    "\n",
    "# Запуск тестов в Jupiter\n",
    "unittest.main(argv=[''], exit=False)"
   ]
  }
 ],
 "metadata": {
  "kernelspec": {
   "display_name": ".venv",
   "language": "python",
   "name": "python3"
  },
  "language_info": {
   "codemirror_mode": {
    "name": "ipython",
    "version": 3
   },
   "file_extension": ".py",
   "mimetype": "text/x-python",
   "name": "python",
   "nbconvert_exporter": "python",
   "pygments_lexer": "ipython3",
   "version": "3.9.0"
  }
 },
 "nbformat": 4,
 "nbformat_minor": 2
}
