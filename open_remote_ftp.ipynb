{
 "cells": [
  {
   "cell_type": "markdown",
   "metadata": {},
   "source": [
    "А вот метод из нашего проекта для создания соединения к FTP серверу и скачивания файла. Но он возвращает байты, так что доделал сохранение в файл на компьютер."
   ]
  },
  {
   "cell_type": "code",
   "execution_count": null,
   "metadata": {},
   "outputs": [],
   "source": [
    "import ftplib\n",
    "import os\n",
    "from io import BytesIO\n",
    "\n",
    "class FTPDownloader:\n",
    "    @classmethod\n",
    "    def open_remote(cls, host, username, password, path):\n",
    "        \"\"\"\n",
    "        Соединяется с FTP сервером, скачивает файл и возвращает его содержимое в виде байтов.\n",
    "        \"\"\"\n",
    "        server = ftplib.FTP()\n",
    "        try:\n",
    "            server.connect(host)\n",
    "            server.login(username, password)\n",
    "\n",
    "            folder_path, file_name = os.path.split(path)\n",
    "            server.cwd(folder_path)\n",
    "            r = BytesIO()\n",
    "            server.retrbinary(f'RETR {file_name}', r.write)\n",
    "\n",
    "            return r.getvalue()\n",
    "        except Exception as e:\n",
    "            print(f\"Ошибка: Не удалось установить соединение с FTP сервером. Подробнее: {e}\")\n",
    "            return None\n",
    "\n",
    "    @staticmethod\n",
    "    def save_to_file(bytes_data, save_path, file_name):\n",
    "        \"\"\"\n",
    "        Сохраняет байты в файл на локальном диске.\n",
    "        \"\"\"\n",
    "        if bytes_data is not None:\n",
    "            full_path = os.path.join(save_path, file_name)\n",
    "            with open(full_path, 'wb') as file:\n",
    "                file.write(bytes_data)\n",
    "            print(f\"Файл успешно сохранен: {full_path}\")\n",
    "        else:\n",
    "            print(\"Нет данных для сохранения\")\n",
    "\n",
    "# Используйте эти параметры для тестирования метода\n",
    "host = \"your_ftp_host\"\n",
    "username = \"your_username\"\n",
    "password = \"your_password\"\n",
    "path = \"remote/path/to/your/file\"\n",
    "\n",
    "# Путь и имя файла для сохранения на локальном диске\n",
    "save_path = \"your/local/save/directory\"\n",
    "file_name = \"downloaded_file\"\n",
    "\n",
    "# Создаем экземпляр класса и тестируем методы\n",
    "downloader = FTPDownloader()\n",
    "bytes_data = downloader.open_remote(host, username, password, path)\n",
    "downloader.save_to_file(bytes_data, save_path, file_name)"
   ]
  },
  {
   "cell_type": "markdown",
   "metadata": {},
   "source": [
    "Остальные методы в этом классе (проекта) уже парсят скачанный XML файл, не думаю, что сейчас стоит пугать ими. Но если попросите, то скину."
   ]
  }
 ],
 "metadata": {
  "language_info": {
   "name": "python"
  }
 },
 "nbformat": 4,
 "nbformat_minor": 2
}
