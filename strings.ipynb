{
 "cells": [
  {
   "cell_type": "code",
   "execution_count": 6,
   "metadata": {},
   "outputs": [
    {
     "name": "stdout",
     "output_type": "stream",
     "text": [
      "<class 'str'>\n",
      "<class 'str'>\n"
     ]
    }
   ],
   "source": [
    "# В Python текстовый тип данных обозначается 'str'\n",
    "s1 = \"Hello, world2\"\n",
    "print(type(s1))\n",
    "s2 = '''Используем тройные\n",
    "кавычки для вывода\n",
    "многострочного текста'''\n",
    "print(type(s2))"
   ]
  },
  {
   "cell_type": "code",
   "execution_count": 9,
   "metadata": {},
   "outputs": [
    {
     "name": "stdout",
     "output_type": "stream",
     "text": [
      "TernETL\n",
      "ETLTern\n"
     ]
    }
   ],
   "source": [
    "#Сложение (контакенация)\n",
    "s1 = 'Tern'\n",
    "s2 = 'ETL'\n",
    "s3 = s1 + s2\n",
    "print(s3)\n",
    "\n",
    "s3 = s2 + s1\n",
    "print(s3)"
   ]
  },
  {
   "cell_type": "code",
   "execution_count": 10,
   "metadata": {},
   "outputs": [
    {
     "name": "stdout",
     "output_type": "stream",
     "text": [
      "ab ab ab ab ab ab \n"
     ]
    }
   ],
   "source": [
    "#Дублирование\n",
    "# В Python строки можно умножать на целые числа\n",
    "st = 'ab ' * 6\n",
    "print(st)"
   ]
  },
  {
   "cell_type": "code",
   "execution_count": 12,
   "metadata": {},
   "outputs": [
    {
     "name": "stdout",
     "output_type": "stream",
     "text": [
      "Пользователь Иван есть в нашей базе данных\n",
      "YES\n",
      "YES\n"
     ]
    }
   ],
   "source": [
    "#Принадлежность строки\n",
    "# Оператор in, возвращает True, если одна подстрока входит в состав строки,\n",
    "# в противном случае возвращает False\n",
    "s1 = 'Иван Иванов'\n",
    "s2 = 'Иван'\n",
    "\n",
    "if s2 in s1: # Проверяем, есть ли «содержимое» строки s2 в s1 \n",
    "    print('Пользователь Иван есть в нашей базе данных')\n",
    "else:\n",
    "    print('Пользователь Иван в базе данных отсутствует')\n",
    "\n",
    "# С помощью оператора in можно упростить поиск строк в разных переменных\n",
    "st = 'a'\n",
    "\n",
    "if st == 'a' or  st == 'b' or  st == 'c' or  st == 'd':\n",
    "    print('YES')\n",
    "\n",
    "# более простой вид\n",
    "st = 'a'\n",
    "\n",
    "if st in 'abcd':\n",
    "    print('YES')"
   ]
  },
  {
   "cell_type": "code",
   "execution_count": 14,
   "metadata": {},
   "outputs": [
    {
     "name": "stdout",
     "output_type": "stream",
     "text": [
      "7\n",
      "4\n"
     ]
    }
   ],
   "source": [
    "#Определение длины строки\n",
    "ln = len('TernETL')\n",
    "print(ln)\n",
    "s1 = 'Tern'\n",
    "print(len(s1))"
   ]
  },
  {
   "cell_type": "code",
   "execution_count": 17,
   "metadata": {},
   "outputs": [
    {
     "name": "stdout",
     "output_type": "stream",
     "text": [
      "T\n",
      "e\n",
      "r\n",
      "n\n",
      "E\n",
      "T\n",
      "L\n"
     ]
    }
   ],
   "source": [
    "#Доступ по индексу\n",
    "# Нумерация символов начинается с нуля и заканчивается длиной строки −1\n",
    "st = 'TernETL'\n",
    "print(st[0])\n",
    "print(st[1])\n",
    "print(st[2])\n",
    "print(st[3])\n",
    "print(st[4])\n",
    "print(st[5])\n",
    "print(st[6])"
   ]
  },
  {
   "cell_type": "code",
   "execution_count": 43,
   "metadata": {},
   "outputs": [
    {
     "ename": "IndexError",
     "evalue": "string index out of range",
     "output_type": "error",
     "traceback": [
      "\u001b[1;31m---------------------------------------------------------------------------\u001b[0m",
      "\u001b[1;31mIndexError\u001b[0m                                Traceback (most recent call last)",
      "Cell \u001b[1;32mIn[43], line 3\u001b[0m\n\u001b[0;32m      1\u001b[0m \u001b[38;5;66;03m#проверка\u001b[39;00m\n\u001b[0;32m      2\u001b[0m st \u001b[38;5;241m=\u001b[39m \u001b[38;5;124m'\u001b[39m\u001b[38;5;124mTernETL\u001b[39m\u001b[38;5;124m'\u001b[39m\n\u001b[1;32m----> 3\u001b[0m \u001b[38;5;28mprint\u001b[39m(\u001b[43mst\u001b[49m\u001b[43m[\u001b[49m\u001b[38;5;241;43m7\u001b[39;49m\u001b[43m]\u001b[49m)\n",
      "\u001b[1;31mIndexError\u001b[0m: string index out of range"
     ]
    }
   ],
   "source": [
    "#проверка\n",
    "st = 'TernETL'\n",
    "print(st[7]) #если ошибка, все верно"
   ]
  },
  {
   "cell_type": "code",
   "execution_count": null,
   "metadata": {},
   "outputs": [
    {
     "name": "stdout",
     "output_type": "stream",
     "text": [
      "tern\n",
      "rnE\n",
      "ETL\n"
     ]
    }
   ],
   "source": [
    "#Срез строки\n",
    "# st[начальный индекс:конечный индекс]\n",
    "st = 'ternETL'\n",
    "print(st[0:4])\n",
    "print(st[2:5])\n",
    "print(st[4:7])"
   ]
  },
  {
   "cell_type": "markdown",
   "metadata": {},
   "source": [
    "Срез извлекает подстроку, начиная c начального индекса (включительно) и заканчивая последним индексом (не включая его), то есть символ с конечным индексом в срез не входит."
   ]
  },
  {
   "cell_type": "code",
   "execution_count": null,
   "metadata": {},
   "outputs": [
    {
     "name": "stdout",
     "output_type": "stream",
     "text": [
      "ternE\n",
      "TL\n",
      "ternETL\n"
     ]
    }
   ],
   "source": [
    "st = 'ternETL'\n",
    "print(st[:5]) # Срез с начала строки\n",
    "print(st[5:]) # Срез до конца строки\n",
    "print(st[:])  # Целая строка"
   ]
  },
  {
   "cell_type": "markdown",
   "metadata": {},
   "source": [
    "Если мы зададим конечный индекс среза больше, чем количество символов в строке, то ошибки не будет. В этом случае программа возвращает срез до конца строки"
   ]
  },
  {
   "cell_type": "code",
   "execution_count": null,
   "metadata": {},
   "outputs": [
    {
     "name": "stdout",
     "output_type": "stream",
     "text": [
      "\n",
      "\n"
     ]
    }
   ],
   "source": [
    "st = 'ternETL'\n",
    "print(st[2:2]) # конечный индекс равен начальному\n",
    "print(st[5:3]) # конечный индекс меньше начального\n",
    "\n",
    "# этот код вернёт пустые строки, но ошибки не будет."
   ]
  },
  {
   "cell_type": "code",
   "execution_count": null,
   "metadata": {},
   "outputs": [
    {
     "name": "stdout",
     "output_type": "stream",
     "text": [
      "Pto\n",
      "Pto\n",
      "hy\n"
     ]
    }
   ],
   "source": [
    "#Шаг извлечения среза\n",
    "# в срез можно добавить третий параметр, который будет означать шаг извлечения символов\n",
    "st = 'Python'\n",
    "print(st[0:6:2])\n",
    "print(st[-6:-1:2])\n",
    "\n",
    "# срез может быть отрицательным\n",
    "print(st[-3:-7:-2])"
   ]
  },
  {
   "cell_type": "code",
   "execution_count": null,
   "metadata": {},
   "outputs": [],
   "source": [
    "# чтобы вывести символы строки в обратном порядке, удобно использовать срез [::−1]\n",
    "st = 'шорох'\n",
    "print(st[::−1])\n",
    "# тут юпитер жалуется, но это рабоатет"
   ]
  },
  {
   "cell_type": "code",
   "execution_count": null,
   "metadata": {},
   "outputs": [
    {
     "name": "stdout",
     "output_type": "stream",
     "text": [
      "4\n",
      "11\n",
      "-1\n",
      "-1\n"
     ]
    }
   ],
   "source": [
    "\n",
    "#Методы поиска подстроки\n",
    "# к ним относятся два метода: S.find(str, [start], [end]) и S.rfind(str, [start], [end])\n",
    "s = 'ternETLternETL'\n",
    "str = 'ETL'\n",
    "\n",
    "print(s.find(str))  # Возвращает индекс первого совпавшего значения подстроки\n",
    "print(s.rfind(str)) # Возвращает индекс последнего совпавшего значения подстроки\n",
    "\n",
    "print(s.rfind('abc')) # Если подстроки в строке нет, Python возвращает −1\n",
    "\n",
    "s = 'ternETL'\n",
    "str = 'ETL'\n",
    "\n",
    "# поиск в срезе\n",
    "print(s.find(str,0,6)) \n",
    "# Так как правая граница в срез не включается, Python не находит подстроку и выдаёт −1\n"
   ]
  },
  {
   "cell_type": "code",
   "execution_count": null,
   "metadata": {},
   "outputs": [
    {
     "name": "stdout",
     "output_type": "stream",
     "text": [
      "TERNETL 123\n",
      "ternetl 123\n",
      "ternETL 123\n"
     ]
    }
   ],
   "source": [
    "#Преобразования в регистры\n",
    "s = 'ternETL 123'\n",
    "\n",
    "print(s.upper())  # Переводит все символы в верхний регистр\n",
    "print(s.lower())  # Переводит все символы в нижний регистр\n",
    "print(s) # Проверяем значение исходной строки"
   ]
  },
  {
   "cell_type": "code",
   "execution_count": 44,
   "metadata": {},
   "outputs": [
    {
     "name": "stdout",
     "output_type": "stream",
     "text": [
      "['Cat,', 'Dog,Hamster', 'Rabbit,', 'Pig']\n",
      "['Cat', ' Dog', 'Hamster   Rabbit', ' Pig']\n",
      "['Cat', ' Dog', 'Hamster   Rabbit, Pig']\n"
     ]
    }
   ],
   "source": [
    "#Метод разбиения строки по разделителю\n",
    "# Для разбиения строки по разделителю используется метод \n",
    "# S.split([разделитель [, maxsplit]])\n",
    "s = 'Cat, Dog,Hamster   Rabbit, Pig'\n",
    "\n",
    "print(s.split())  # Разделитель не задан. Метод разбивает строку по пробельным символам — пробелу и знаку табуляции\n",
    "print(s.split(',')) # Разбивает строку по заданному разделителю ','\n",
    "print(s.split(',', 2)) # Задаёт максимальное количество разбиений, равное 3"
   ]
  },
  {
   "cell_type": "code",
   "execution_count": 45,
   "metadata": {},
   "outputs": [
    {
     "name": "stdout",
     "output_type": "stream",
     "text": [
      "*******Hi!\n",
      "Hi!*******\n"
     ]
    }
   ],
   "source": [
    "# Методы rjust() и ljust()\n",
    "s = 'Hi!'\n",
    "print(s.rjust(10,'*')) # Увеличивает длину строки до 10 и заполняет пробелы слева символами '*'\n",
    "print(s.ljust(10,'*')) # Увеличивает длину строки до 10 и заполняет пробелы справа символами '*'"
   ]
  }
 ],
 "metadata": {
  "kernelspec": {
   "display_name": "Python 3",
   "language": "python",
   "name": "python3"
  },
  "language_info": {
   "codemirror_mode": {
    "name": "ipython",
    "version": 3
   },
   "file_extension": ".py",
   "mimetype": "text/x-python",
   "name": "python",
   "nbconvert_exporter": "python",
   "pygments_lexer": "ipython3",
   "version": "3.9.0"
  }
 },
 "nbformat": 4,
 "nbformat_minor": 2
}
